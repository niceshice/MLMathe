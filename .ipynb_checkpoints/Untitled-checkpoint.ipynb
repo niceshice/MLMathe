{
 "cells": [
  {
   "cell_type": "code",
   "execution_count": 1,
   "id": "99192fb8",
   "metadata": {},
   "outputs": [],
   "source": [
    "import numpy as np"
   ]
  },
  {
   "cell_type": "code",
   "execution_count": 2,
   "id": "715686a1",
   "metadata": {},
   "outputs": [],
   "source": [
    "x = np.array([3, 6])\n",
    "xb = np.array([1, 0])\n",
    "yb = np.array([0, 1])\n",
    "A = np.array([[1, 2], [1, 2]])"
   ]
  },
  {
   "cell_type": "code",
   "execution_count": 16,
   "id": "cb3c6235",
   "metadata": {},
   "outputs": [
    {
     "name": "stdout",
     "output_type": "stream",
     "text": [
      "[ 9 18]\n",
      "[1 2]\n",
      "[1 2]\n",
      "0\n"
     ]
    }
   ],
   "source": [
    "print(x @ A)\n",
    "print(xb @ A)\n",
    "print(yb @ A)\n",
    "print(xb @ yb)"
   ]
  },
  {
   "cell_type": "markdown",
   "id": "b169c060",
   "metadata": {},
   "source": [
    "### Begriffe und Beispiele\n",
    "\n",
    "- Basisvektoren: Vektoren mit Magnitude 1, die den Achsen folgen: [1, 0], [0, 1], [0, 0, 1]\n",
    "- Span: Zweidimensionale Magnitude von (Basis-)vektoren\n",
    "- Rank: Anzahl der linear unabhängigen Spalten (& Zeilen?) einer Matrix\n",
    "- Vektormultiplikation: Vektor @ Vektor = Skalar ; [1, 2]@[3, 2] = 7\n",
    "- Matrixmultiplikation: Matrix @ Vektor = Vektor ; Bsp. siehe oben"
   ]
  },
  {
   "cell_type": "code",
   "execution_count": 11,
   "id": "72d12af0",
   "metadata": {},
   "outputs": [],
   "source": [
    "f = np.asmatrix([[1, 2], [1, 2]])"
   ]
  },
  {
   "cell_type": "code",
   "execution_count": 17,
   "id": "baf64ba0",
   "metadata": {},
   "outputs": [
    {
     "data": {
      "text/plain": [
       "matrix([[ 9, 18]])"
      ]
     },
     "execution_count": 17,
     "metadata": {},
     "output_type": "execute_result"
    }
   ],
   "source": [
    "x @ f"
   ]
  },
  {
   "cell_type": "markdown",
   "id": "ba6c434e",
   "metadata": {},
   "source": [
    "### Entropie"
   ]
  },
  {
   "cell_type": "code",
   "execution_count": 38,
   "id": "ffa140fb",
   "metadata": {},
   "outputs": [],
   "source": [
    "from collections import Counter\n",
    "import math\n",
    "\n",
    "def entropy(msg):\n",
    "    c = Counter(msg)\n",
    "    entropy = sum([v*((v/len(msg))*(math.log2(v/len(msg)))) for v in c.values()])\n",
    "    return -entropy"
   ]
  },
  {
   "cell_type": "code",
   "execution_count": 39,
   "id": "50c97e4d",
   "metadata": {},
   "outputs": [
    {
     "data": {
      "text/plain": [
       "1.5447831557385334"
      ]
     },
     "execution_count": 39,
     "metadata": {},
     "output_type": "execute_result"
    }
   ],
   "source": [
    "entropy('ABBBBBB')"
   ]
  },
  {
   "cell_type": "code",
   "execution_count": 40,
   "id": "db81fa47",
   "metadata": {},
   "outputs": [
    {
     "data": {
      "text/plain": [
       "1.5645258176027994"
      ]
     },
     "execution_count": 40,
     "metadata": {},
     "output_type": "execute_result"
    }
   ],
   "source": [
    "entropy('ABBBBBBBBBB')"
   ]
  },
  {
   "cell_type": "code",
   "execution_count": 41,
   "id": "af0b29be",
   "metadata": {},
   "outputs": [
    {
     "data": {
      "text/plain": [
       "9.157895841746823"
      ]
     },
     "execution_count": 41,
     "metadata": {},
     "output_type": "execute_result"
    }
   ],
   "source": [
    "entropy('ABBAABBBABBBABBABBABB')"
   ]
  },
  {
   "cell_type": "code",
   "execution_count": 42,
   "id": "e3edaf5a",
   "metadata": {},
   "outputs": [
    {
     "data": {
      "text/plain": [
       "11.84556536980238"
      ]
     },
     "execution_count": 42,
     "metadata": {},
     "output_type": "execute_result"
    }
   ],
   "source": [
    "entropy('AABBBBAABBBBAABBCAABBBABBB')"
   ]
  }
 ],
 "metadata": {
  "kernelspec": {
   "display_name": "Python 3 (ipykernel)",
   "language": "python",
   "name": "python3"
  },
  "language_info": {
   "codemirror_mode": {
    "name": "ipython",
    "version": 3
   },
   "file_extension": ".py",
   "mimetype": "text/x-python",
   "name": "python",
   "nbconvert_exporter": "python",
   "pygments_lexer": "ipython3",
   "version": "3.9.4"
  }
 },
 "nbformat": 4,
 "nbformat_minor": 5
}
