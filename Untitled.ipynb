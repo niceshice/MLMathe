{
 "cells": [
  {
   "cell_type": "code",
   "execution_count": 1,
   "id": "99192fb8",
   "metadata": {},
   "outputs": [],
   "source": [
    "import numpy as np"
   ]
  },
  {
   "cell_type": "code",
   "execution_count": 2,
   "id": "715686a1",
   "metadata": {},
   "outputs": [],
   "source": [
    "x = np.array([3, 6])\n",
    "xb = np.array([1, 0])\n",
    "yb = np.array([0, 1])\n",
    "A = np.array([[1, 2], [1, 2]])"
   ]
  },
  {
   "cell_type": "code",
   "execution_count": 3,
   "id": "cb3c6235",
   "metadata": {},
   "outputs": [
    {
     "name": "stdout",
     "output_type": "stream",
     "text": [
      "[ 9 18]\n",
      "[1 2]\n",
      "[1 2]\n",
      "0\n"
     ]
    }
   ],
   "source": [
    "print(x @ A)\n",
    "print(xb @ A)\n",
    "print(yb @ A)\n",
    "print(xb @ yb)"
   ]
  },
  {
   "cell_type": "markdown",
   "id": "b169c060",
   "metadata": {},
   "source": [
    "### Begriffe und Beispiele\n",
    "\n",
    "- Basisvektoren: Vektoren mit Magnitude 1, die den Achsen folgen: [1, 0], [0, 1], [0, 0, 1]\n",
    "- Span: Zweidimensionale Magnitude von (Basis-)vektoren\n",
    "- Rank: Anzahl der linear unabhängigen Spalten (& Zeilen?) einer Matrix\n",
    "- Vektormultiplikation: Vektor @ Vektor = Skalar ; [1, 2]@[3, 2] = 7\n",
    "- Matrixmultiplikation: Matrix @ Vektor = Vektor ; Bsp. siehe oben"
   ]
  },
  {
   "cell_type": "code",
   "execution_count": 4,
   "id": "72d12af0",
   "metadata": {},
   "outputs": [],
   "source": [
    "f = np.asmatrix([[1, 2], [1, 2]])"
   ]
  },
  {
   "cell_type": "code",
   "execution_count": 5,
   "id": "baf64ba0",
   "metadata": {},
   "outputs": [
    {
     "data": {
      "text/plain": [
       "matrix([[ 9, 18]])"
      ]
     },
     "execution_count": 5,
     "metadata": {},
     "output_type": "execute_result"
    }
   ],
   "source": [
    "x @ f"
   ]
  },
  {
   "cell_type": "markdown",
   "id": "d423a501",
   "metadata": {},
   "source": [
    "### Entropie"
   ]
  },
  {
   "cell_type": "code",
   "execution_count": 6,
   "id": "ffa140fb",
   "metadata": {},
   "outputs": [],
   "source": [
    "from collections import Counter\n",
    "import math\n",
    "\n",
    "def entropy(msg):\n",
    "    c = Counter(msg)\n",
    "    entropy = sum([v*v/len(msg)*math.log2(v/len(msg)) for v in c.values()])\n",
    "    return -entropy"
   ]
  },
  {
   "cell_type": "code",
   "execution_count": 7,
   "id": "3712856c",
   "metadata": {},
   "outputs": [
    {
     "data": {
      "text/plain": [
       "1.5447831557385334"
      ]
     },
     "execution_count": 7,
     "metadata": {},
     "output_type": "execute_result"
    }
   ],
   "source": [
    "entropy('ABBBBBB')"
   ]
  },
  {
   "cell_type": "code",
   "execution_count": 8,
   "id": "9b5cd297",
   "metadata": {},
   "outputs": [
    {
     "data": {
      "text/plain": [
       "1.5645258176027994"
      ]
     },
     "execution_count": 8,
     "metadata": {},
     "output_type": "execute_result"
    }
   ],
   "source": [
    "entropy('ABBBBBBBBBB')"
   ]
  },
  {
   "cell_type": "code",
   "execution_count": 9,
   "id": "895efa47",
   "metadata": {},
   "outputs": [
    {
     "data": {
      "text/plain": [
       "9.157895841746825"
      ]
     },
     "execution_count": 9,
     "metadata": {},
     "output_type": "execute_result"
    }
   ],
   "source": [
    "entropy('ABBAABBBABBBABBABBABB')"
   ]
  },
  {
   "cell_type": "code",
   "execution_count": 10,
   "id": "7c36b43d",
   "metadata": {},
   "outputs": [
    {
     "data": {
      "text/plain": [
       "11.84556536980238"
      ]
     },
     "execution_count": 10,
     "metadata": {},
     "output_type": "execute_result"
    }
   ],
   "source": [
    "entropy('AABBBBAABBBBAABBCAABBBABBB')"
   ]
  },
  {
   "cell_type": "code",
   "execution_count": null,
   "id": "a0ecfa9b",
   "metadata": {},
   "outputs": [],
   "source": []
  }
 ],
 "metadata": {
  "kernelspec": {
   "display_name": "Python 3 (ipykernel)",
   "language": "python",
   "name": "python3"
  },
  "language_info": {
   "codemirror_mode": {
    "name": "ipython",
    "version": 3
   },
   "file_extension": ".py",
   "mimetype": "text/x-python",
   "name": "python",
   "nbconvert_exporter": "python",
   "pygments_lexer": "ipython3",
   "version": "3.9.4"
  }
 },
 "nbformat": 4,
 "nbformat_minor": 5
}
