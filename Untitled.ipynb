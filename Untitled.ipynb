{
 "cells": [
  {
   "cell_type": "code",
   "execution_count": 1,
   "id": "99192fb8",
   "metadata": {},
   "outputs": [],
   "source": [
    "import numpy as np"
   ]
  },
  {
   "cell_type": "code",
   "execution_count": 2,
   "id": "715686a1",
   "metadata": {},
   "outputs": [],
   "source": [
    "x = np.array([3, 6])\n",
    "xb = np.array([1, 0])\n",
    "yb = np.array([0, 1])\n",
    "A = np.array([[1, 2], [1, 2]])"
   ]
  },
  {
   "cell_type": "code",
   "execution_count": 3,
   "id": "cb3c6235",
   "metadata": {},
   "outputs": [
    {
     "name": "stdout",
     "output_type": "stream",
     "text": [
      "[ 9 18]\n",
      "[1 2]\n",
      "[1 2]\n"
     ]
    }
   ],
   "source": [
    "print(x @ A)\n",
    "print(xb @ A)\n",
    "print(yb @ A)"
   ]
  },
  {
   "cell_type": "markdown",
   "id": "b169c060",
   "metadata": {},
   "source": [
    "### Begriffe und Beispiele\n",
    "\n",
    "- Basisvektoren: Vektoren mit Magnitude 1, die den Achsen folgen: [1, 0], [0, 1], [0, 0, 1]\n",
    "- Span: Zweidimensionale Magnitude von (Basis-)vektoren\n",
    "- Rank: Anzahl der linear unabhängigen Spalten (& Zeilen?) einer Matrix\n",
    "- Vektormultiplikation: Vektor @ Vektor = Skalar ; [1, 2]@[3, 2] = 7\n",
    "- Matrixmultiplikation: Matrix @ Vektor = Vektor ; Bsp. siehe oben"
   ]
  },
  {
   "cell_type": "code",
   "execution_count": null,
   "id": "72d1bcbc",
   "metadata": {},
   "outputs": [],
   "source": []
  }
 ],
 "metadata": {
  "kernelspec": {
   "display_name": "Python 3 (ipykernel)",
   "language": "python",
   "name": "python3"
  },
  "language_info": {
   "codemirror_mode": {
    "name": "ipython",
    "version": 3
   },
   "file_extension": ".py",
   "mimetype": "text/x-python",
   "name": "python",
   "nbconvert_exporter": "python",
   "pygments_lexer": "ipython3",
   "version": "3.9.4"
  }
 },
 "nbformat": 4,
 "nbformat_minor": 5
}
